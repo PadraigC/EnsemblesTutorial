{
 "cells": [
  {
   "cell_type": "markdown",
   "metadata": {},
   "source": [
    "# Ensembles Bagging\n",
    "Bagging (Bootstrap Aggregation) and Random Subspace ensembles.  \n",
    "In `scikit-learn` both of these are implemented using the `BaggingClassifier` object. \n",
    "1. Bootstrap sampling\n",
    "2. Bagging  \n",
    "    - the impact of diversity\n",
    "    - stable and unstable classifiers\n",
    "3. Random Subspace   \n",
    "\n",
    "This notebook requires the `ensembles-function.py` module and the wine dataset in `wine.csv`."
   ]
  },
  {
   "cell_type": "code",
   "execution_count": 1,
   "metadata": {},
   "outputs": [],
   "source": [
    "import pandas as pd\n",
    "import numpy as np\n",
    "import matplotlib.pyplot as plt"
   ]
  },
  {
   "cell_type": "markdown",
   "metadata": {},
   "source": [
    "## Bootstrap sampling\n",
    "To illustrate how bootstrap sampling works we:\n",
    "1. create a numpy array with N entries, (say 1,000)\n",
    "2. select a sample from this array of size N using sampling with replacement\n",
    "3. convert this sample to a set to see how many unique entries there are\n",
    "\n",
    "Typically, ~63% of entries will be selected with many selected multiple times.  \n",
    "About 37% of entries will not be selected."
   ]
  },
  {
   "cell_type": "code",
   "execution_count": 2,
   "metadata": {},
   "outputs": [
    {
     "data": {
      "text/plain": [
       "629"
      ]
     },
     "execution_count": 2,
     "metadata": {},
     "output_type": "execute_result"
    }
   ],
   "source": [
    "N = 1000\n",
    "data = np.arange(N)\n",
    "BS = np.random.choice(data, size = N)\n",
    "BS_unique = set(BS)\n",
    "len(BS_unique)"
   ]
  },
  {
   "cell_type": "markdown",
   "metadata": {},
   "source": [
    "Load the wine dataset. "
   ]
  },
  {
   "cell_type": "code",
   "execution_count": 3,
   "metadata": {},
   "outputs": [
    {
     "data": {
      "text/html": [
       "<div>\n",
       "<style scoped>\n",
       "    .dataframe tbody tr th:only-of-type {\n",
       "        vertical-align: middle;\n",
       "    }\n",
       "\n",
       "    .dataframe tbody tr th {\n",
       "        vertical-align: top;\n",
       "    }\n",
       "\n",
       "    .dataframe thead th {\n",
       "        text-align: right;\n",
       "    }\n",
       "</style>\n",
       "<table border=\"1\" class=\"dataframe\">\n",
       "  <thead>\n",
       "    <tr style=\"text-align: right;\">\n",
       "      <th></th>\n",
       "      <th>Alcohol</th>\n",
       "      <th>Malic_acid</th>\n",
       "      <th>Ash</th>\n",
       "      <th>Alcalinity_of_ash</th>\n",
       "      <th>Magnesium</th>\n",
       "      <th>Total_phenols</th>\n",
       "      <th>Flavanoids</th>\n",
       "      <th>Nonflavanoid_phenols</th>\n",
       "      <th>Proanthocyanins</th>\n",
       "      <th>Color_intensity</th>\n",
       "      <th>Hue</th>\n",
       "      <th>OD280/OD315_of_diluted_wines</th>\n",
       "      <th>Proline</th>\n",
       "      <th>class</th>\n",
       "    </tr>\n",
       "  </thead>\n",
       "  <tbody>\n",
       "    <tr>\n",
       "      <th>0</th>\n",
       "      <td>14.23</td>\n",
       "      <td>1.71</td>\n",
       "      <td>2.43</td>\n",
       "      <td>15.6</td>\n",
       "      <td>127</td>\n",
       "      <td>2.80</td>\n",
       "      <td>3.06</td>\n",
       "      <td>0.28</td>\n",
       "      <td>2.29</td>\n",
       "      <td>5.64</td>\n",
       "      <td>1.04</td>\n",
       "      <td>3.92</td>\n",
       "      <td>1065</td>\n",
       "      <td>Type1</td>\n",
       "    </tr>\n",
       "    <tr>\n",
       "      <th>1</th>\n",
       "      <td>13.20</td>\n",
       "      <td>1.78</td>\n",
       "      <td>2.14</td>\n",
       "      <td>11.2</td>\n",
       "      <td>100</td>\n",
       "      <td>2.65</td>\n",
       "      <td>2.76</td>\n",
       "      <td>0.26</td>\n",
       "      <td>1.28</td>\n",
       "      <td>4.38</td>\n",
       "      <td>1.05</td>\n",
       "      <td>3.40</td>\n",
       "      <td>1050</td>\n",
       "      <td>Type1</td>\n",
       "    </tr>\n",
       "    <tr>\n",
       "      <th>2</th>\n",
       "      <td>13.16</td>\n",
       "      <td>2.36</td>\n",
       "      <td>2.67</td>\n",
       "      <td>18.6</td>\n",
       "      <td>101</td>\n",
       "      <td>2.80</td>\n",
       "      <td>3.24</td>\n",
       "      <td>0.30</td>\n",
       "      <td>2.81</td>\n",
       "      <td>5.68</td>\n",
       "      <td>1.03</td>\n",
       "      <td>3.17</td>\n",
       "      <td>1185</td>\n",
       "      <td>Type1</td>\n",
       "    </tr>\n",
       "    <tr>\n",
       "      <th>3</th>\n",
       "      <td>14.37</td>\n",
       "      <td>1.95</td>\n",
       "      <td>2.50</td>\n",
       "      <td>16.8</td>\n",
       "      <td>113</td>\n",
       "      <td>3.85</td>\n",
       "      <td>3.49</td>\n",
       "      <td>0.24</td>\n",
       "      <td>2.18</td>\n",
       "      <td>7.80</td>\n",
       "      <td>0.86</td>\n",
       "      <td>3.45</td>\n",
       "      <td>1480</td>\n",
       "      <td>Type1</td>\n",
       "    </tr>\n",
       "    <tr>\n",
       "      <th>4</th>\n",
       "      <td>13.24</td>\n",
       "      <td>2.59</td>\n",
       "      <td>2.87</td>\n",
       "      <td>21.0</td>\n",
       "      <td>118</td>\n",
       "      <td>2.80</td>\n",
       "      <td>2.69</td>\n",
       "      <td>0.39</td>\n",
       "      <td>1.82</td>\n",
       "      <td>4.32</td>\n",
       "      <td>1.04</td>\n",
       "      <td>2.93</td>\n",
       "      <td>735</td>\n",
       "      <td>Type1</td>\n",
       "    </tr>\n",
       "  </tbody>\n",
       "</table>\n",
       "</div>"
      ],
      "text/plain": [
       "   Alcohol  Malic_acid   Ash  Alcalinity_of_ash  Magnesium  Total_phenols  \\\n",
       "0    14.23        1.71  2.43               15.6        127           2.80   \n",
       "1    13.20        1.78  2.14               11.2        100           2.65   \n",
       "2    13.16        2.36  2.67               18.6        101           2.80   \n",
       "3    14.37        1.95  2.50               16.8        113           3.85   \n",
       "4    13.24        2.59  2.87               21.0        118           2.80   \n",
       "\n",
       "   Flavanoids  Nonflavanoid_phenols  Proanthocyanins  Color_intensity   Hue  \\\n",
       "0        3.06                  0.28             2.29             5.64  1.04   \n",
       "1        2.76                  0.26             1.28             4.38  1.05   \n",
       "2        3.24                  0.30             2.81             5.68  1.03   \n",
       "3        3.49                  0.24             2.18             7.80  0.86   \n",
       "4        2.69                  0.39             1.82             4.32  1.04   \n",
       "\n",
       "   OD280/OD315_of_diluted_wines  Proline  class  \n",
       "0                          3.92     1065  Type1  \n",
       "1                          3.40     1050  Type1  \n",
       "2                          3.17     1185  Type1  \n",
       "3                          3.45     1480  Type1  \n",
       "4                          2.93      735  Type1  "
      ]
     },
     "execution_count": 3,
     "metadata": {},
     "output_type": "execute_result"
    }
   ],
   "source": [
    "wine_pd = pd.read_csv('Wine.csv')\n",
    "wine_pd.head()"
   ]
  },
  {
   "cell_type": "code",
   "execution_count": 4,
   "metadata": {},
   "outputs": [
    {
     "data": {
      "text/plain": [
       "(178, 13)"
      ]
     },
     "execution_count": 4,
     "metadata": {},
     "output_type": "execute_result"
    }
   ],
   "source": [
    "y = wine_pd.pop('class').values\n",
    "X = wine_pd.values\n",
    "X.shape"
   ]
  },
  {
   "cell_type": "code",
   "execution_count": 5,
   "metadata": {},
   "outputs": [],
   "source": [
    "from sklearn.neighbors import KNeighborsClassifier\n",
    "from sklearn.tree import DecisionTreeClassifier\n",
    "from sklearn.neural_network import MLPClassifier\n",
    "from sklearn.naive_bayes import GaussianNB\n",
    "from sklearn.linear_model import LogisticRegression\n",
    "from sklearn.model_selection import cross_val_score, cross_validate, RepeatedKFold\n",
    "from sklearn.model_selection import train_test_split\n",
    "from sklearn.ensemble import BaggingClassifier\n",
    "from sklearn.preprocessing import StandardScaler\n",
    "from sklearn.pipeline import Pipeline\n",
    "from ensemble_functions import *\n",
    "dtree = DecisionTreeClassifier(criterion='entropy')"
   ]
  },
  {
   "cell_type": "markdown",
   "metadata": {},
   "source": [
    "## Bagging\n",
    "Ensembles based on Bagging. \n",
    "- Train neural net (NN) and *k*-NN ensembles with from 2 - 15 estimators.\n",
    " - Works for neural nets\n",
    " - Doesn't work for k-NN"
   ]
  },
  {
   "cell_type": "code",
   "execution_count": 11,
   "metadata": {},
   "outputs": [],
   "source": [
    "# A helper function that will run RepeatedKFold cross validation for a range \n",
    "# of ensemble sizes (est_range).\n",
    "# Takes, the estimator, n_reps and the range as arguments. \n",
    "def eval_bag_est_range(the_est, n_reps, est_range, folds = 10):\n",
    "    n_est_dict = {}\n",
    "    for n_est in est_range: \n",
    "        the_bag = BaggingClassifier(the_est, \n",
    "                            n_estimators = n_est,\n",
    "                            max_samples = 1.0, # bootstrap resampling \n",
    "                            bootstrap = True)\n",
    "        bag_cv = cross_validate(the_bag, X, y, n_jobs=-1,\n",
    "                                cv=RepeatedKFold(n_splits=folds, n_repeats=n_reps)) \n",
    "        n_est_dict[n_est]=bag_cv['test_score'].mean()\n",
    "    return n_est_dict"
   ]
  },
  {
   "cell_type": "markdown",
   "metadata": {},
   "source": [
    "For neural networks and *k*-NN we need to normalise the data using `StandardScaler`.  \n",
    "We set this up as a pipeline so that we can use it in cross-validation."
   ]
  },
  {
   "cell_type": "code",
   "execution_count": 12,
   "metadata": {},
   "outputs": [],
   "source": [
    "kNNpipe  = Pipeline(steps=[ ('scaler', StandardScaler()),\n",
    "                           ('classifier', KNeighborsClassifier(n_neighbors=1))])\n",
    "\n",
    "NNPipe = Pipeline(steps=[ ('scaler', StandardScaler()),\n",
    "                           ('classifier', MLPClassifier(solver='lbfgs', alpha=1e-5,\n",
    "                                                        hidden_layer_sizes=(5, 2)))])"
   ]
  },
  {
   "cell_type": "code",
   "execution_count": 13,
   "metadata": {},
   "outputs": [],
   "source": [
    "res_NN_bag = eval_bag_est_range(NNPipe, 10, range(2,16))"
   ]
  },
  {
   "cell_type": "code",
   "execution_count": 14,
   "metadata": {},
   "outputs": [],
   "source": [
    "res_kNN_bag  = eval_bag_est_range(kNNpipe, 10, range(2,16))"
   ]
  },
  {
   "cell_type": "code",
   "execution_count": 15,
   "metadata": {
    "scrolled": true
   },
   "outputs": [
    {
     "data": {
      "image/png": "[encoded data removed]",
      "text/plain": [
       "<Figure size 360x288 with 1 Axes>"
      ]
     },
     "metadata": {
      "needs_background": "light"
     },
     "output_type": "display_data"
    }
   ],
   "source": [
    "kNN_list = sorted(res_kNN_bag.items()) # sorted by key, return a list of tuples\n",
    "nc, kNN_accs = zip(*kNN_list) # unpack a list of pairs into two tuples\n",
    "NN_list = sorted(res_NN_bag.items()) # sorted by key, return a list of tuples\n",
    "nc, NN_accs = zip(*NN_list) # unpack a list of pairs into two tuples\n",
    "\n",
    "f = plt.figure(figsize=(5,4))\n",
    "\n",
    "plt.plot(nc, NN_accs, lw = 2, color = 'r', label = 'Neural Net')\n",
    "plt.plot(nc, kNN_accs, lw = 2, color = 'orange', label = 'k-NN')\n",
    "\n",
    "plt.xlabel(\"Number of estimators\")\n",
    "plt.ylabel(\"Accuracy\")\n",
    "plt.ylim([0.94,1])\n",
    "plt.legend(loc = 'upper left')\n",
    "plt.grid(axis = 'y')\n",
    "f.savefig('bag-est-plot.pdf')"
   ]
  },
  {
   "cell_type": "markdown",
   "metadata": {},
   "source": [
    "## Comparing estimators (classifiers)\n",
    "We see that bagging works (improves accuracy) for neural networks and d-trees   \n",
    "but not for logistic regression, naive Bayes and *k*-NN."
   ]
  },
  {
   "cell_type": "code",
   "execution_count": 16,
   "metadata": {},
   "outputs": [],
   "source": [
    "clf_dict = {}\n",
    "clf_dict['Tree'] = DecisionTreeClassifier(max_leaf_nodes = 6)\n",
    "clf_dict['Neural Net'] = MLPClassifier(solver='lbfgs', alpha=1e-5, \n",
    "                                       hidden_layer_sizes=(5, 2))\n",
    "clf_dict['Logistic'] = LogisticRegression(solver = 'lbfgs')\n",
    "clf_dict['k-NN'] = KNeighborsClassifier(n_neighbors=1)\n",
    "clf_dict['Bayes'] = GaussianNB()"
   ]
  },
  {
   "cell_type": "code",
   "execution_count": 17,
   "metadata": {},
   "outputs": [
    {
     "name": "stdout",
     "output_type": "stream",
     "text": [
      "Mean for Tree 0.91\n",
      "Mean for Tree bag 0.95\n",
      "Mean for Neural Net 0.90\n",
      "Mean for Neural Net bag 0.98\n",
      "Mean for Logistic 0.98\n",
      "Mean for Logistic bag 0.98\n",
      "Mean for k-NN 0.95\n",
      "Mean for k-NN bag 0.95\n",
      "Mean for Bayes 0.98\n",
      "Mean for Bayes bag 0.98\n"
     ]
    }
   ],
   "source": [
    "clf_acc = {}\n",
    "bag_acc = {}\n",
    "folds, n_reps = 10,10\n",
    "n_est = 10\n",
    "v = 0\n",
    "for c_name in clf_dict.keys():\n",
    "    pipe  = Pipeline(steps=[ ('scaler', StandardScaler()),\n",
    "                           ('classifier', clf_dict[c_name])])\n",
    "    clf_cv = cross_validate(pipe, X, y, n_jobs=-1,\n",
    "                                    cv=RepeatedKFold(n_splits=folds, n_repeats=n_reps))\n",
    "\n",
    "    the_bag = BaggingClassifier(pipe, \n",
    "                            n_estimators = n_est,\n",
    "                            max_samples = 1.0, # bootstrap resampling \n",
    "                            bootstrap = True)\n",
    "    bag_cv = cross_validate(the_bag, X, y, n_jobs=-1,\n",
    "                                    cv=RepeatedKFold(n_splits=folds, n_repeats=n_reps))\n",
    "    \n",
    "    clf_acc[c_name] = clf_cv['test_score'].mean()\n",
    "    bag_acc[c_name] = bag_cv['test_score'].mean()\n",
    "    print(\"Mean for {:s} {:.2f}\".format(c_name, clf_cv['test_score'].mean()))\n",
    "    print(\"Mean for {:s} bag {:.2f}\".format(c_name, bag_cv['test_score'].mean()))"
   ]
  },
  {
   "cell_type": "code",
   "execution_count": 18,
   "metadata": {},
   "outputs": [
    {
     "data": {
      "image/png": "[encoded data removed]",
      "text/plain": [
       "<Figure size 360x288 with 1 Axes>"
      ]
     },
     "metadata": {
      "needs_background": "light"
     },
     "output_type": "display_data"
    }
   ],
   "source": [
    "names = clf_dict.keys()\n",
    "y_pos = np.arange(len(names))\n",
    "f = plt.figure(figsize=(5,4))\n",
    "plt.bar(y_pos-0.15, clf_acc.values(), align='center', width = 0.3, alpha=0.5, \n",
    "        label = \"Classifier\")\n",
    "plt.bar(y_pos+0.15, bag_acc.values(), align='center', color = 'r', width = 0.3, alpha=0.5,\n",
    "       label = \"Ensemble\")\n",
    "plt.xticks(y_pos, names)\n",
    "plt.ylabel('Accuracy')\n",
    "#plt.xlabel(x_lab)\n",
    "#plt.title(title)\n",
    "plt.ylim((0.5,1))\n",
    "plt.grid(axis = 'y')\n",
    "plt.legend(loc = 'center right')\n",
    "plt.show()\n",
    "f.savefig('bag-est-bar.pdf')"
   ]
  },
  {
   "cell_type": "markdown",
   "metadata": {},
   "source": [
    "## Stability / Diversity\n",
    "We look at diversity (disagreement) within the ensembles to find an explanation for why bagging sometimes doesn't work.   \n",
    "We see there is very little disagreement between the *k*-NN estimators. "
   ]
  },
  {
   "cell_type": "code",
   "execution_count": 19,
   "metadata": {},
   "outputs": [],
   "source": [
    "# A function to draw colourmaps to show estimator diversity. \n",
    "def do_colourmap (matrix, names, title = ' ', **kwargs):\n",
    "    if 'vmx' in kwargs:    # check that 'reps' is a keyword\n",
    "        vmax_val = kwargs['vmx']\n",
    "    else: vmax_val = matrix.max()\n",
    "\n",
    "    fig, ax = plt.subplots(figsize=(5,5))\n",
    "    im = ax.imshow(matrix, cmap = 'gray', vmax= vmax_val)\n",
    "    # We want to show all ticks...\n",
    "    ax.set_xticks(np.arange(len(names)))\n",
    "    ax.set_yticks(np.arange(len(names)))\n",
    "    # ... and label them with the respective list entries\n",
    "    ax.set_xticklabels(names)\n",
    "    ax.set_yticklabels(names)\n",
    "\n",
    "    # Rotate the tick labels and set their alignment.\n",
    "    plt.setp(ax.get_xticklabels(), rotation=45, ha=\"right\",\n",
    "         rotation_mode=\"anchor\")\n",
    "\n",
    "    # Loop over data dimensions and create text annotations.\n",
    "    for i in range(len(names)):\n",
    "        for j in range(len(names)):\n",
    "            text = ax.text(j, i, round(matrix[i, j],2), size = 14,\n",
    "                           ha=\"center\", va=\"center\", color=\"orange\")\n",
    "    ax.set_title(title)\n",
    "    fig.tight_layout()\n",
    "    plt.show()\n",
    "    return fig"
   ]
  },
  {
   "cell_type": "markdown",
   "metadata": {},
   "source": [
    "Produce normalised train and test sets"
   ]
  },
  {
   "cell_type": "code",
   "execution_count": 20,
   "metadata": {},
   "outputs": [
    {
     "data": {
      "text/plain": [
       "((89, 13), (89, 13))"
      ]
     },
     "execution_count": 20,
     "metadata": {},
     "output_type": "execute_result"
    }
   ],
   "source": [
    "X_trainR, X_testR, y_train, y_test = train_test_split(X, y, test_size=0.5, random_state=42)\n",
    "scaler = StandardScaler()\n",
    "X_train = scaler.fit_transform(X_trainR)\n",
    "X_test = scaler.transform(X_testR)\n",
    "X_train.shape, X_test.shape"
   ]
  },
  {
   "cell_type": "markdown",
   "metadata": {},
   "source": [
    "The ensembles to be considered, one based on neural networks and one using *k*-NN."
   ]
  },
  {
   "cell_type": "code",
   "execution_count": 34,
   "metadata": {},
   "outputs": [],
   "source": [
    "stab_dict = {}\n",
    "\n",
    "NNPipe = Pipeline(steps=[ ('scaler', StandardScaler()),\n",
    "                           ('classifier', MLPClassifier(solver='lbfgs', alpha=1e-5,\n",
    "                                                        hidden_layer_sizes=(5, 2)\n",
    "                                                       ))])\n",
    "kNNpipe  = Pipeline(steps=[ ('scaler', StandardScaler()),\n",
    "                           ('classifier', KNeighborsClassifier(n_neighbors=1))])\n",
    "\n",
    "stab_dict['Neural Net'] = BaggingClassifier(NNPipe,\n",
    "                            n_estimators = n_est,\n",
    "                            max_samples = 1.0, # bootstrap resampling \n",
    "                            bootstrap = True)\n",
    "stab_dict['kNN'] = BaggingClassifier(kNNpipe,\n",
    "                            n_estimators = n_est,\n",
    "                            max_samples = 1.0, # bootstrap resampling \n",
    "                            bootstrap = True)"
   ]
  },
  {
   "cell_type": "markdown",
   "metadata": {},
   "source": [
    "In order to look at diversity within the ensembles we access the estimators through the `.estimators_` attribute and manipulate them directly. \n",
    "- `get_consensus_prediction` is a function imported from `ensemble_functions.py` that implements majority voting.\n",
    "- `plain_dis` another function from  `ensemble_functions.py` that calculates the plain disagreement measure for two sets of predictions."
   ]
  },
  {
   "cell_type": "code",
   "execution_count": 35,
   "metadata": {},
   "outputs": [],
   "source": [
    "dist_arr_dict = {}\n",
    "n_est = 5\n",
    "\n",
    "bag_names = []\n",
    "for i in range(n_est):\n",
    "    bag_names.append('Est '+ str(i+1))\n",
    "\n",
    "clfs = ['Neural Net', 'kNN']\n",
    "for clf_name in clfs:\n",
    "    the_bag = stab_dict[clf_name]\n",
    "    bag_ests = the_bag.fit(X_train,y_train).estimators_\n",
    "    bag_df = pd.DataFrame() # The data frame where we store the estimator predictions \n",
    "    \n",
    "    # Produce predictions for the estimators on the test set. \n",
    "    for i, est in enumerate(bag_ests):\n",
    "        y_preds = est.predict(X_test)\n",
    "        bag_df['Est '+ str(i+1)]=y_preds\n",
    "    bag_df['Consensus'] = get_consensus_prediction(bag_df,bag_df.columns)\n",
    "    bag_df['Actual'] = y_test\n",
    "    bag_dis_arr = np.zeros((n_est,n_est))\n",
    "    for i_ind,i in enumerate(bag_names):\n",
    "        for j_ind,j in enumerate(bag_names):\n",
    "            bag_dis_arr[i_ind,j_ind] = plain_dis(bag_df[i],bag_df[j])\n",
    "    dist_arr_dict[clf_name] = bag_dis_arr"
   ]
  },
  {
   "cell_type": "code",
   "execution_count": 36,
   "metadata": {},
   "outputs": [
    {
     "name": "stdout",
     "output_type": "stream",
     "text": [
      "Max difference in NN Ensemble: 0.629\n",
      "Max difference in kNN Ensemble: 0.090\n",
      "Overall max is: 0.629\n"
     ]
    }
   ],
   "source": [
    "print('Max difference in NN Ensemble: %4.3f' % (dist_arr_dict['Neural Net'].max()))\n",
    "print('Max difference in kNN Ensemble: %4.3f' % (dist_arr_dict['kNN'].max()))\n",
    "maxv = max(dist_arr_dict['Neural Net'].max(),dist_arr_dict['kNN'].max())\n",
    "print('Overall max is: %4.3f' % maxv)"
   ]
  },
  {
   "cell_type": "markdown",
   "metadata": {},
   "source": [
    "A colour map of the disagreement scores for the *k*-NN ensemble."
   ]
  },
  {
   "cell_type": "code",
   "execution_count": 37,
   "metadata": {},
   "outputs": [
    {
     "data": {
      "image/png": "[encoded data removed]",
      "text/plain": [
       "<Figure size 360x360 with 1 Axes>"
      ]
     },
     "metadata": {
      "needs_background": "light"
     },
     "output_type": "display_data"
    }
   ],
   "source": [
    "f = do_colourmap(dist_arr_dict['kNN'], bag_names, \n",
    "             title = 'kNN ensemble disagreement', vmx = maxv)\n",
    "f.savefig('kNN-dis-arr.pdf')"
   ]
  },
  {
   "cell_type": "markdown",
   "metadata": {},
   "source": [
    "Disagreement scores for the neural net ensemble. "
   ]
  },
  {
   "cell_type": "code",
   "execution_count": 38,
   "metadata": {},
   "outputs": [
    {
     "data": {
      "image/png": "[encoded data removed]",
      "text/plain": [
       "<Figure size 360x360 with 1 Axes>"
      ]
     },
     "metadata": {
      "needs_background": "light"
     },
     "output_type": "display_data"
    }
   ],
   "source": [
    "f = do_colourmap(dist_arr_dict['Neural Net'], bag_names, \n",
    "             title = 'Neural Net ensemble disagreement', vmx = maxv)\n",
    "f.savefig('NN-dis-arr.pdf')"
   ]
  },
  {
   "cell_type": "markdown",
   "metadata": {},
   "source": [
    "## Random Subspace\n",
    "We see that a random subspace strategy overcomes the diversity/stability problem with *k*-NN.  \n",
    "The hyper-parameter combination in the second call to `BaggingClassifier` produces a random subspace ensemble."
   ]
  },
  {
   "cell_type": "code",
   "execution_count": 39,
   "metadata": {},
   "outputs": [],
   "source": [
    "n_est = 20\n",
    "kNNpipe  = Pipeline(steps=[ ('scaler', StandardScaler()),\n",
    "                           ('classifier', KNeighborsClassifier(n_neighbors=1))])\n",
    "\n",
    "kNNbag = BaggingClassifier(kNNpipe,\n",
    "                            n_estimators = n_est,\n",
    "                            max_samples = 1.0, # bootstrap resampling \n",
    "                            bootstrap = True)\n",
    "\n",
    "random_SS_kNN = BaggingClassifier(kNNpipe, \n",
    "                            n_estimators = n_est,\n",
    "                            max_samples=1.0, bootstrap = False,\n",
    "                            max_features=0.5)"
   ]
  },
  {
   "cell_type": "code",
   "execution_count": 27,
   "metadata": {},
   "outputs": [],
   "source": [
    "kNNbag_cv = cross_validate(kNNbag, X, y, n_jobs=-1,\n",
    "                        cv=RepeatedKFold(n_splits=folds, n_repeats=n_reps))"
   ]
  },
  {
   "cell_type": "code",
   "execution_count": 28,
   "metadata": {},
   "outputs": [
    {
     "data": {
      "text/plain": [
       "0.9555228758169935"
      ]
     },
     "execution_count": 28,
     "metadata": {},
     "output_type": "execute_result"
    }
   ],
   "source": [
    "kNNbag_cv['test_score'].mean()"
   ]
  },
  {
   "cell_type": "code",
   "execution_count": 29,
   "metadata": {},
   "outputs": [],
   "source": [
    "rSS_cv = cross_validate(random_SS_kNN, X, y, n_jobs=-1,\n",
    "                        cv=RepeatedKFold(n_splits=folds, n_repeats=n_reps))"
   ]
  },
  {
   "cell_type": "code",
   "execution_count": 30,
   "metadata": {},
   "outputs": [
    {
     "data": {
      "text/plain": [
       "0.9741176470588235"
      ]
     },
     "execution_count": 30,
     "metadata": {},
     "output_type": "execute_result"
    }
   ],
   "source": [
    "rSS_cv['test_score'].mean()"
   ]
  },
  {
   "cell_type": "markdown",
   "metadata": {},
   "source": [
    "## Comparing Random Subspace and Bagging"
   ]
  },
  {
   "cell_type": "code",
   "execution_count": 31,
   "metadata": {},
   "outputs": [
    {
     "name": "stdout",
     "output_type": "stream",
     "text": [
      "Mean for Neural Net 0.92\n",
      "Mean for Neural Net bag 0.98\n",
      "Mean for Neural Net RS 0.98\n",
      "Mean for k-NN 0.95\n",
      "Mean for k-NN bag 0.96\n",
      "Mean for k-NN RS 0.97\n"
     ]
    }
   ],
   "source": [
    "clf_acc = {}\n",
    "bag_acc = {}\n",
    "rs_acc = {}\n",
    "folds, n_reps = 10,10\n",
    "n_est = 20\n",
    "v = 0\n",
    "clfs = ['Neural Net', 'k-NN']\n",
    "for c_name in clfs:\n",
    "    pipe  = Pipeline(steps=[ ('scaler', StandardScaler()),\n",
    "                           ('classifier', clf_dict[c_name])])\n",
    "    clf_cv = cross_validate(pipe, X, y, n_jobs=-1,\n",
    "                                    cv=RepeatedKFold(n_splits=folds, n_repeats=n_reps))\n",
    "\n",
    "    the_bag = BaggingClassifier(pipe, \n",
    "                            n_estimators = n_est,\n",
    "                            max_samples = 1.0, # bootstrap resampling \n",
    "                            bootstrap = True)\n",
    "    bag_cv = cross_validate(the_bag, X, y, n_jobs=-1,\n",
    "                                    cv=RepeatedKFold(n_splits=folds, n_repeats=n_reps))\n",
    "    random_SS = BaggingClassifier(pipe, \n",
    "                            n_estimators = n_est,\n",
    "                            max_samples=1.0, bootstrap = False,\n",
    "                            max_features=0.5)\n",
    "    RS_cv = cross_validate(random_SS, X, y, n_jobs=-1,\n",
    "                                    cv=RepeatedKFold(n_splits=folds, n_repeats=n_reps))\n",
    "   \n",
    "    clf_acc[c_name] = clf_cv['test_score'].mean()\n",
    "    bag_acc[c_name] = bag_cv['test_score'].mean()\n",
    "    rs_acc[c_name] = RS_cv['test_score'].mean()\n",
    "\n",
    "    print(\"Mean for {:s} {:.2f}\".format(c_name, clf_cv['test_score'].mean()))\n",
    "    print(\"Mean for {:s} bag {:.2f}\".format(c_name, bag_cv['test_score'].mean()))\n",
    "    print(\"Mean for {:s} RS {:.2f}\".format(c_name, RS_cv['test_score'].mean()))"
   ]
  },
  {
   "cell_type": "code",
   "execution_count": 32,
   "metadata": {},
   "outputs": [
    {
     "data": {
      "image/png": "[encoded data removed]",
      "text/plain": [
       "<Figure size 360x288 with 1 Axes>"
      ]
     },
     "metadata": {
      "needs_background": "light"
     },
     "output_type": "display_data"
    }
   ],
   "source": [
    "names = clfs\n",
    "y_pos = np.arange(len(names))\n",
    "f = plt.figure(figsize=(5,4))\n",
    "plt.bar(y_pos-0.2, clf_acc.values(), align='center', width = 0.2, alpha=0.5, \n",
    "        label = \"Classifier\")\n",
    "plt.bar(y_pos, bag_acc.values(), align='center', color = 'r', width = 0.2, alpha=0.5,\n",
    "       label = \"Bagging\")\n",
    "plt.bar(y_pos+0.2, rs_acc.values(), align='center', color = 'orange', width = 0.2, alpha=0.5,\n",
    "       label = \"Random Subspace\")\n",
    "\n",
    "\n",
    "plt.xticks(y_pos, names)\n",
    "plt.ylabel('Accuracy')\n",
    "#plt.xlabel(x_lab)\n",
    "#plt.title(title)\n",
    "plt.ylim((0.5,1))\n",
    "plt.grid(axis = 'y')\n",
    "plt.legend(loc = 'lower right')\n",
    "plt.show()\n",
    "f.savefig('RandomSS-bar.pdf')"
   ]
  }
 ],
 "metadata": {
  "kernelspec": {
   "display_name": "Python 3",
   "language": "python",
   "name": "python3"
  },
  "language_info": {
   "codemirror_mode": {
    "name": "ipython",
    "version": 3
   },
   "file_extension": ".py",
   "mimetype": "text/x-python",
   "name": "python",
   "nbconvert_exporter": "python",
   "pygments_lexer": "ipython3",
   "version": "3.8.3"
  }
 },
 "nbformat": 4,
 "nbformat_minor": 2
}
