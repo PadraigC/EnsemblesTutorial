{
 "cells": [
  {
   "cell_type": "markdown",
   "metadata": {},
   "source": [
    "# Ensembles Boosting: Adaboost\n",
    "We train a very simple Adaboost ensemble on a very simple dataset.  \n",
    "The ensemble has just two estimators."
   ]
  },
  {
   "cell_type": "code",
   "execution_count": null,
   "metadata": {},
   "outputs": [],
   "source": [
    "import pandas as pd\n",
    "import numpy as np\n",
    "import math\n",
    "import matplotlib.pyplot as plt\n",
    "from sklearn.ensemble import AdaBoostClassifier\n",
    "from sklearn.model_selection import cross_val_score, RepeatedKFold\n",
    "from sklearn.model_selection import train_test_split\n",
    "from sklearn.metrics import accuracy_score\n",
    "from sklearn.preprocessing import StandardScaler\n",
    "from sklearn.pipeline import Pipeline\n",
    "from statistics import mean"
   ]
  },
  {
   "cell_type": "code",
   "execution_count": null,
   "metadata": {},
   "outputs": [],
   "source": [
    "athlete = pd.read_csv('AthleteSelection.csv',index_col = 'Athlete')\n",
    "athlete.head()"
   ]
  },
  {
   "cell_type": "code",
   "execution_count": null,
   "metadata": {},
   "outputs": [],
   "source": [
    "names = athlete.index\n",
    "feature_names = athlete.columns\n",
    "y = athlete.pop('Selected').values\n",
    "X = athlete.values"
   ]
  },
  {
   "cell_type": "code",
   "execution_count": null,
   "metadata": {},
   "outputs": [],
   "source": [
    "X_train, X_test, y_train, y_test, n_tr, n_ts = train_test_split(X, y, names,\n",
    "                                                                test_size=1/3, \n",
    "                                                                random_state = 4)"
   ]
  },
  {
   "cell_type": "markdown",
   "metadata": {},
   "source": [
    "Train an AdaBoost ensemble with just two estimators"
   ]
  },
  {
   "cell_type": "code",
   "execution_count": null,
   "metadata": {},
   "outputs": [],
   "source": [
    "abc = AdaBoostClassifier(n_estimators=2, algorithm = 'SAMME', random_state = 20)\n",
    "abc.fit(X_train,y_train)\n",
    "abc.estimator_weights_"
   ]
  },
  {
   "cell_type": "markdown",
   "metadata": {},
   "source": [
    "The first estimator has 2/13 errors."
   ]
  },
  {
   "cell_type": "code",
   "execution_count": null,
   "metadata": {},
   "outputs": [],
   "source": [
    "abc.estimator_errors_, 2/13"
   ]
  },
  {
   "cell_type": "markdown",
   "metadata": {},
   "source": [
    "The estimators are simple decision stumps so we can plot the thresholds in 2D space."
   ]
  },
  {
   "cell_type": "code",
   "execution_count": null,
   "metadata": {},
   "outputs": [],
   "source": [
    "e0 = abc.estimators_[0]\n",
    "e1 = abc.estimators_[1]"
   ]
  },
  {
   "cell_type": "code",
   "execution_count": null,
   "metadata": {},
   "outputs": [],
   "source": [
    "import matplotlib.pyplot as plt\n",
    "import matplotlib.patches as mpatches\n",
    "t0 = e0.tree_.threshold[0]\n",
    "t1 = e1.tree_.threshold[0]\n",
    "xlm = [2,9]\n",
    "ylm = [1,10]\n",
    "l1, l2 = [t0, t0], [1, 10]\n",
    "color= ['red' if l == 'No' else 'blue' for l in y_train]\n",
    "x1 = X_train[:,0]\n",
    "x2 = X_train[:,1]\n",
    "f = plt.figure(figsize=(8,5))\n",
    "\n",
    "misx = [X_train[12,0],X_train[4,0]]\n",
    "misy = [X_train[12,1],X_train[4,1]]\n",
    "plt.scatter(misx, misy, color = 'orange', s = 150)\n",
    "\n",
    "\n",
    "plt.scatter(x1,x2, color=color)\n",
    "#plt.plot(l1,l2, color = 'b') \n",
    "plt.title(\"Athlete Selection\")\n",
    "plt.xlabel(\"Speed\")\n",
    "plt.ylabel(\"Agility\")\n",
    "plt.grid()\n",
    "red_patch = mpatches.Patch(color='red', label='Not Selected')\n",
    "blue_patch = mpatches.Patch(color='blue', label='Selected')\n",
    "plt.legend(handles=[red_patch, blue_patch],loc=4)\n",
    "for i, txt in enumerate(n_tr):\n",
    "    plt.annotate(txt, (x1[i]+0.1, x2[i]), fontsize = 12)\n",
    "\n",
    "plt.xlim(xlm)\n",
    "plt.ylim(ylm)\n",
    "plt.plot([t0,t0], ylm, color = 'g',linewidth=4)\n",
    "plt.plot(xlm, [t1,t1], color = 'g')\n",
    "f.savefig('Aths-2D.pdf')"
   ]
  },
  {
   "cell_type": "markdown",
   "metadata": {},
   "source": [
    "e0 splits on feature 0, the speed feature. The split is at 5."
   ]
  },
  {
   "cell_type": "code",
   "execution_count": null,
   "metadata": {},
   "outputs": [],
   "source": [
    "e0.tree_.feature[0], e0.tree_.threshold[0]"
   ]
  },
  {
   "cell_type": "markdown",
   "metadata": {},
   "source": [
    "e1 splits on feature 1, the Agility feature. The split is at 5.875."
   ]
  },
  {
   "cell_type": "code",
   "execution_count": null,
   "metadata": {},
   "outputs": [],
   "source": [
    "e1.tree_.feature[0], e1.tree_.threshold[0]"
   ]
  },
  {
   "cell_type": "markdown",
   "metadata": {},
   "source": [
    "The two trees."
   ]
  },
  {
   "cell_type": "code",
   "execution_count": null,
   "metadata": {},
   "outputs": [],
   "source": [
    "from sklearn import tree\n",
    "tree.plot_tree(e0,filled=True, feature_names=feature_names , label = 'none', impurity = False,\n",
    "                rounded=True) \n",
    "plt.savefig('e0.pdf')"
   ]
  },
  {
   "cell_type": "code",
   "execution_count": null,
   "metadata": {},
   "outputs": [],
   "source": [
    "tree.plot_tree(e1,filled=True, feature_names=feature_names , label = 'none', impurity = False,\n",
    "                rounded=True) \n",
    "plt.savefig('e1.pdf')"
   ]
  },
  {
   "cell_type": "markdown",
   "metadata": {},
   "source": [
    "### Sample weight update\n",
    "Here we produce estimates of how we believe the instance weight update would work. \n",
    "In numpy `np.log()` is the natural log `ln`."
   ]
  },
  {
   "cell_type": "code",
   "execution_count": null,
   "metadata": {},
   "outputs": [],
   "source": [
    "s_weights0 = np.ones(13)*1/13\n",
    "s_weights0"
   ]
  },
  {
   "cell_type": "code",
   "execution_count": null,
   "metadata": {},
   "outputs": [],
   "source": [
    "epsilon0 = 2/13\n",
    "alpha0 =0.5* np.log((1-epsilon0)/epsilon0)\n",
    "alpha0"
   ]
  },
  {
   "cell_type": "code",
   "execution_count": null,
   "metadata": {},
   "outputs": [],
   "source": [
    "upw = math.exp(alpha0)\n",
    "upw"
   ]
  },
  {
   "cell_type": "code",
   "execution_count": null,
   "metadata": {},
   "outputs": [],
   "source": [
    "downw = math.exp(-alpha0)\n",
    "downw"
   ]
  },
  {
   "cell_type": "code",
   "execution_count": null,
   "metadata": {},
   "outputs": [],
   "source": [
    "highw = 1/13*upw\n",
    "highw"
   ]
  },
  {
   "cell_type": "code",
   "execution_count": null,
   "metadata": {},
   "outputs": [],
   "source": [
    "s_weights1 = np.ones(13)*1/13*downw\n",
    "s_weights1"
   ]
  },
  {
   "cell_type": "markdown",
   "metadata": {},
   "source": [
    "Incorrectly classified examples at indexes 4 and 12."
   ]
  },
  {
   "cell_type": "code",
   "execution_count": null,
   "metadata": {},
   "outputs": [],
   "source": [
    "s_weights1[4] = highw\n",
    "s_weights1[12] = highw\n",
    "s_weights1"
   ]
  },
  {
   "cell_type": "code",
   "execution_count": null,
   "metadata": {},
   "outputs": [],
   "source": [
    "y_pos = np.arange(len(s_weights1))\n",
    "f = plt.figure(figsize=(5,1.5))\n",
    "plt.bar(y_pos-0.15, s_weights0, align='center', width = 0.3, alpha=0.5, \n",
    "        label = \"Est 0\")\n",
    "plt.bar(y_pos+0.15, s_weights1, align='center', color = 'r', width = 0.3, alpha=0.5,\n",
    "       label = \"Est 1\")\n",
    "plt.xticks(y_pos, n_tr)\n",
    "plt.ylabel('Weight')\n",
    "plt.xlabel('Sample')\n",
    "plt.grid(axis = 'y')\n",
    "plt.legend(loc = 'upper left')\n",
    "plt.show()\n",
    "f.savefig('weights.pdf', bbox_inches = 'tight')"
   ]
  }
 ],
 "metadata": {
  "kernelspec": {
   "display_name": "Python 3",
   "language": "python",
   "name": "python3"
  },
  "language_info": {
   "codemirror_mode": {
    "name": "ipython",
    "version": 3
   },
   "file_extension": ".py",
   "mimetype": "text/x-python",
   "name": "python",
   "nbconvert_exporter": "python",
   "pygments_lexer": "ipython3",
   "version": "3.8.3"
  }
 },
 "nbformat": 4,
 "nbformat_minor": 4
}
