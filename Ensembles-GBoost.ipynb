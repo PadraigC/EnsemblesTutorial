{
 "cells": [
  {
   "cell_type": "markdown",
   "metadata": {},
   "source": [
    "## Gradient Boosting\n",
    "Accuracy comparison of 5 ensemble methods:\n",
    " - Bagging\n",
    " - Random subspace\n",
    " - Random forest\n",
    " - AdaBoost\n",
    " - Gradient boosting  \n",
    "   \n",
    " Assessment is done using repeated k-fold cross validation."
   ]
  },
  {
   "cell_type": "code",
   "execution_count": null,
   "metadata": {},
   "outputs": [],
   "source": [
    "import pandas as pd\n",
    "import numpy as np\n",
    "import matplotlib.pylab as plt\n",
    "from sklearn.ensemble import AdaBoostClassifier, GradientBoostingClassifier\n",
    "from sklearn.ensemble import RandomForestClassifier, BaggingClassifier\n",
    "from sklearn.model_selection import cross_val_score, RepeatedKFold"
   ]
  },
  {
   "cell_type": "code",
   "execution_count": null,
   "metadata": {},
   "outputs": [],
   "source": [
    "hotel_pd = pd.read_csv('HotelRevHelpfulness.csv')\n",
    "hotel_pd.head()"
   ]
  },
  {
   "cell_type": "code",
   "execution_count": null,
   "metadata": {},
   "outputs": [],
   "source": [
    "hotel_pd.pop('hotelId').values\n",
    "y = hotel_pd.pop('reviewHelpfulness').values\n",
    "X = hotel_pd.values\n",
    "X.shape"
   ]
  },
  {
   "cell_type": "code",
   "execution_count": null,
   "metadata": {},
   "outputs": [],
   "source": [
    "n_est = 100\n",
    "models = {}\n",
    "models['Bagging'] = BaggingClassifier(n_estimators=n_est, max_samples = 1.0,\n",
    "                            bootstrap = True)\n",
    "models['RandomSS'] = BaggingClassifier(n_estimators = n_est,\n",
    "                            max_samples=1.0, bootstrap = False,\n",
    "                            max_features=0.5)\n",
    "models['RandomForest'] = RandomForestClassifier(n_estimators=n_est)\n",
    "models['AdaBoost'] = AdaBoostClassifier(n_estimators=n_est, algorithm = 'SAMME')\n",
    "models['GradBoost'] = GradientBoostingClassifier(n_estimators=n_est, max_leaf_nodes = 4)"
   ]
  },
  {
   "cell_type": "markdown",
   "metadata": {},
   "source": [
    "### Testing the 5 Ensemble Models\n",
    "The evaluation entails repeated k-fold cross validation (10x10) so this evaluation takes a few minutes to run. "
   ]
  },
  {
   "cell_type": "code",
   "execution_count": null,
   "metadata": {},
   "outputs": [],
   "source": [
    "folds = 10\n",
    "n_reps = 10\n",
    "res_d = {}\n",
    "for model in models.keys():\n",
    "    scores = cross_val_score(models[model], X, y, n_jobs = -1,\n",
    "                             cv=RepeatedKFold(n_splits=folds, n_repeats=n_reps))\n",
    "    print(model, scores.mean())\n",
    "    res_d[model] = scores.mean()  "
   ]
  },
  {
   "cell_type": "code",
   "execution_count": null,
   "metadata": {},
   "outputs": [],
   "source": [
    "names = res_d.keys()\n",
    "colours = ['g','g','b','r','r']\n",
    "y_pos = np.arange(len(names))\n",
    "f = plt.figure(figsize=(5,4))\n",
    "plt.bar(y_pos, res_d.values(), align='center', alpha=0.5, color = colours)  #width = 0.3\n",
    "plt.xticks(y_pos, names,  rotation=45)\n",
    "plt.ylabel('Accuracy')\n",
    "plt.ylim((0.5,0.75))\n",
    "plt.grid(axis = 'y')\n",
    "#plt.legend(loc = 'center right')\n",
    "plt.show()\n",
    "f.savefig('AllEns.pdf', bbox_inches = 'tight')"
   ]
  }
 ],
 "metadata": {
  "kernelspec": {
   "display_name": "Python 3",
   "language": "python",
   "name": "python3"
  },
  "language_info": {
   "codemirror_mode": {
    "name": "ipython",
    "version": 3
   },
   "file_extension": ".py",
   "mimetype": "text/x-python",
   "name": "python",
   "nbconvert_exporter": "python",
   "pygments_lexer": "ipython3",
   "version": "3.8.3"
  }
 },
 "nbformat": 4,
 "nbformat_minor": 4
}
