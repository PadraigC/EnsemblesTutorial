{
 "cells": [
  {
   "cell_type": "markdown",
   "metadata": {},
   "source": [
    "# Ensembles Random Forest\n",
    "A demonstration of the feature importance and OOB estimate of generalisation accuracy facilities in `scikit-learn` Random Forest."
   ]
  },
  {
   "cell_type": "code",
   "execution_count": null,
   "metadata": {},
   "outputs": [],
   "source": [
    "import pandas as pd\n",
    "import numpy as np\n",
    "import matplotlib.pyplot as plt\n",
    "from sklearn.ensemble import RandomForestClassifier\n",
    "from sklearn.model_selection import cross_val_score, RepeatedKFold\n",
    "from sklearn.model_selection import train_test_split\n",
    "from sklearn.metrics import accuracy_score\n",
    "from statistics import mean"
   ]
  },
  {
   "cell_type": "code",
   "execution_count": null,
   "metadata": {},
   "outputs": [],
   "source": [
    "wine_pd = pd.read_csv('Wine.csv')\n",
    "wine_pd.head()"
   ]
  },
  {
   "cell_type": "markdown",
   "metadata": {},
   "source": [
    "Random forest uses decision trees so there is no need to normalise the data."
   ]
  },
  {
   "cell_type": "code",
   "execution_count": null,
   "metadata": {},
   "outputs": [],
   "source": [
    "y = wine_pd.pop('class').values\n",
    "X = wine_pd.values\n",
    "X.shape"
   ]
  },
  {
   "cell_type": "markdown",
   "metadata": {},
   "source": [
    "The following code supresses all warnings. We shouldn't really do this  \n",
    "but for the following experiment we start off training an RF with too few trees  \n",
    "and this produces some warnings."
   ]
  },
  {
   "cell_type": "code",
   "execution_count": null,
   "metadata": {},
   "outputs": [],
   "source": [
    "import warnings\n",
    "warnings.filterwarnings(\"ignore\")"
   ]
  },
  {
   "cell_type": "markdown",
   "metadata": {},
   "source": [
    "### Generalisation Accuracy\n",
    "Comparing the RF OOB generalisation accuracy estimates with that estimated using hold-out.  \n",
    "The OOB estimate gets better as more ensemble members are used.  \n",
    "Repeating 50 times. "
   ]
  },
  {
   "cell_type": "code",
   "execution_count": null,
   "metadata": {},
   "outputs": [],
   "source": [
    "nreps = 50\n",
    "nest_range =range(10,110,10)\n",
    "oob_res_dict = {}\n",
    "ho_res_dict ={}\n",
    "for nest in nest_range:\n",
    "    oob_accs = []\n",
    "    ho_accs = []\n",
    "    for r in range(nreps):\n",
    "        X_train, X_test, y_train, y_test = train_test_split(X, y, test_size=0.33)\n",
    "        RFoob = RandomForestClassifier(n_estimators = nest, oob_score = True)\n",
    "        RFoob.fit(X_train,y_train)\n",
    "        oob_est = RFoob.oob_score_\n",
    "        oob_accs.append(oob_est)\n",
    "        y_pred = RFoob.predict(X_test)\n",
    "        ho_est = accuracy_score(y_pred,y_test)\n",
    "        ho_accs.append(ho_est)\n",
    "    print(mean(oob_accs), mean(ho_accs))\n",
    "    oob_res_dict[nest]=mean(oob_accs)\n",
    "    ho_res_dict[nest]=mean(ho_accs)"
   ]
  },
  {
   "cell_type": "code",
   "execution_count": null,
   "metadata": {},
   "outputs": [],
   "source": [
    "fig = plt.figure(figsize=(5,4))\n",
    "\n",
    "plt.plot(nest_range, list(oob_res_dict.values()), lw = 2, color = 'r', \n",
    "         label = 'OOB Estimate')\n",
    "plt.plot(nest_range, list(ho_res_dict.values()), lw = 2, color = 'orange', \n",
    "         label = 'HO Estimate')\n",
    "\n",
    "plt.xlabel(\"Number of estimators\")\n",
    "plt.ylabel(\"Accuracy\")\n",
    "plt.ylim([0.9,1])\n",
    "plt.legend(loc = 'upper left')\n",
    "plt.grid(axis = 'y')\n",
    "fig.savefig('OOB-acc.pdf')"
   ]
  },
  {
   "cell_type": "markdown",
   "metadata": {},
   "source": [
    "### Feature Importance\n",
    "Generating RF feature importance scores for the wine dataset. "
   ]
  },
  {
   "cell_type": "code",
   "execution_count": null,
   "metadata": {},
   "outputs": [],
   "source": [
    "wine_pd.columns"
   ]
  },
  {
   "cell_type": "code",
   "execution_count": null,
   "metadata": {},
   "outputs": [],
   "source": [
    "RFoob = RandomForestClassifier(n_estimators = 100, oob_score = True, random_state=0)\n",
    "RFoob.fit(X_train,y_train)"
   ]
  },
  {
   "cell_type": "code",
   "execution_count": null,
   "metadata": {},
   "outputs": [],
   "source": [
    "RFoob.feature_importances_"
   ]
  },
  {
   "cell_type": "code",
   "execution_count": null,
   "metadata": {},
   "outputs": [],
   "source": [
    "names = list(wine_pd.columns)\n",
    "names[11] = 'OD280/OD315'\n",
    "y_pos = np.arange(len(names))\n",
    "f = plt.figure(figsize=(5,4))\n",
    "plt.bar(y_pos, RFoob.feature_importances_, align='center', width = 0.3, alpha=0.5, \n",
    "        label = \"Feature\")\n",
    "plt.xticks(y_pos, names, rotation=90)\n",
    "plt.ylabel('Feature Importance')\n",
    "f.savefig('RF-FI.pdf',bbox_inches='tight')"
   ]
  }
 ],
 "metadata": {
  "kernelspec": {
   "display_name": "Python 3",
   "language": "python",
   "name": "python3"
  },
  "language_info": {
   "codemirror_mode": {
    "name": "ipython",
    "version": 3
   },
   "file_extension": ".py",
   "mimetype": "text/x-python",
   "name": "python",
   "nbconvert_exporter": "python",
   "pygments_lexer": "ipython3",
   "version": "3.8.3"
  }
 },
 "nbformat": 4,
 "nbformat_minor": 4
}
